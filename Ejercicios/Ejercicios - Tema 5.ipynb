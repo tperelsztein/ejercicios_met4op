{
 "cells": [
  {
   "cell_type": "markdown",
   "id": "970ea681",
   "metadata": {},
   "source": [
    "Dudas:\n",
    "\n",
    "* Ejercicio 4: que sería el indice booleano? Una mascara? Como seria la resolución del ejercicio?\n",
    "\n",
    "* Ejercicio 8: no entendemos la consigna. Que son los escalares?\n",
    "\n",
    "* Ejercicio 11: que es una matriz de dimension 5,5,3?"
   ]
  },
  {
   "cell_type": "code",
   "execution_count": null,
   "id": "e799cdc5",
   "metadata": {},
   "outputs": [],
   "source": []
  },
  {
   "cell_type": "code",
   "execution_count": null,
   "id": "4d04646d",
   "metadata": {},
   "outputs": [],
   "source": []
  },
  {
   "cell_type": "code",
   "execution_count": null,
   "id": "c534f647",
   "metadata": {},
   "outputs": [],
   "source": []
  },
  {
   "cell_type": "code",
   "execution_count": 2,
   "id": "bed75c66",
   "metadata": {},
   "outputs": [],
   "source": [
    "import numpy as np"
   ]
  },
  {
   "cell_type": "code",
   "execution_count": null,
   "id": "2c5ed41a",
   "metadata": {},
   "outputs": [],
   "source": []
  },
  {
   "cell_type": "markdown",
   "id": "d5239dbc",
   "metadata": {},
   "source": [
    "1-Crea un objeto ndarray con elementos del 10 al 50.\n",
    "Ejemplo:\n",
    "[10 11 12 13 14 15 16 17 18 19 20 21 22 23 24 25 26 27 28 29 30 31 32 33\n",
    " 34 35 36 37 38 39 40 41 42 43 44 45 46 47 48 49 50]"
   ]
  },
  {
   "cell_type": "code",
   "execution_count": null,
   "id": "e06e1f95",
   "metadata": {},
   "outputs": [],
   "source": []
  },
  {
   "cell_type": "markdown",
   "id": "665737a5",
   "metadata": {},
   "source": [
    "4-Utiliza el índice booleano para generar los resultados del candidato C dados los siguientes datos:\n",
    "-Nombres de los candidatos: candidatoA, candidatoB, candidatoC, candidatoD. \n",
    "-Votos de los candidatos en las mesas A1, B1 y C1 =\n",
    "Candidato A =\n",
    "* Mesa A1 = 10.1\n",
    "* Mesa B1 = 5.4\n",
    "* Mesa C1 = 21.2\n",
    "* Candidato B =\n",
    "* Mesa A1 = 33.1\n",
    "* Mesa B1 = 40.2\n",
    "* Mesa C1 = 33.7\n",
    "* Candidato C =\n",
    "* Mesa A1 = 33.1\n",
    "* Mesa B1 = 40.2\n",
    "* Mesa C1 = 33.7\n",
    "* Candidato D =\n",
    "* Mesa A1 = 50.1\n",
    "* Mesa B1 = 40.5\n",
    "* Mesa C1 = 30.1"
   ]
  },
  {
   "cell_type": "code",
   "execution_count": 3,
   "id": "871f33dc",
   "metadata": {},
   "outputs": [],
   "source": [
    "resultados = np.array([\n",
    "                # A    B     C       D\n",
    "                [10.1, 33.1, 33.1, 50.1], # A1\n",
    "                [5.4,  40.2, 40.2, 40.5],   # B1\n",
    "                [21.2, 33.7, 33.7, 30.1]    # C1\n",
    "])"
   ]
  },
  {
   "cell_type": "code",
   "execution_count": 16,
   "id": "2e69e4dc",
   "metadata": {},
   "outputs": [],
   "source": [
    "cand_c = np.array([ \n",
    "    [False,False,True,False],\n",
    "    [False,False,True,False],\n",
    "    [False,False,True,False]\n",
    "                  ])"
   ]
  },
  {
   "cell_type": "code",
   "execution_count": 15,
   "id": "97e1562f",
   "metadata": {},
   "outputs": [
    {
     "data": {
      "text/plain": [
       "array([33.1, 40.2, 33.7])"
      ]
     },
     "execution_count": 15,
     "metadata": {},
     "output_type": "execute_result"
    }
   ],
   "source": [
    "resultados[cand_c]"
   ]
  },
  {
   "cell_type": "code",
   "execution_count": null,
   "id": "3dfd85af",
   "metadata": {},
   "outputs": [],
   "source": []
  },
  {
   "cell_type": "markdown",
   "id": "32941dcb",
   "metadata": {},
   "source": [
    "5-Crear una matriz de 4x4 con valores que van de 0 a 15."
   ]
  },
  {
   "cell_type": "code",
   "execution_count": 23,
   "id": "1ca1e019",
   "metadata": {},
   "outputs": [
    {
     "data": {
      "text/plain": [
       "array([[ 0,  1,  2,  3],\n",
       "       [ 4,  5,  6,  7],\n",
       "       [ 8,  9, 10, 11],\n",
       "       [12, 13, 14, 15]])"
      ]
     },
     "execution_count": 23,
     "metadata": {},
     "output_type": "execute_result"
    }
   ],
   "source": [
    "array1 = np.arange(0,16).reshape(4,4)\n",
    "array1"
   ]
  },
  {
   "cell_type": "markdown",
   "id": "1d470924",
   "metadata": {},
   "source": [
    "6- Crear una matriz de 5x5 con el valor 1 en todos sus bordes y 0 en su interior."
   ]
  },
  {
   "cell_type": "code",
   "execution_count": 40,
   "id": "3955aef5",
   "metadata": {},
   "outputs": [
    {
     "data": {
      "text/plain": [
       "array([[1., 1., 1., 1., 1.],\n",
       "       [1., 0., 0., 0., 1.],\n",
       "       [1., 0., 0., 0., 1.],\n",
       "       [1., 0., 0., 0., 1.],\n",
       "       [1., 1., 1., 1., 1.]])"
      ]
     },
     "execution_count": 40,
     "metadata": {},
     "output_type": "execute_result"
    }
   ],
   "source": [
    "array = np.ones((5,5))\n",
    "array[1:4,1:4] = 0\n",
    "array"
   ]
  },
  {
   "cell_type": "code",
   "execution_count": 42,
   "id": "455801d9",
   "metadata": {},
   "outputs": [
    {
     "name": "stdout",
     "output_type": "stream",
     "text": [
      "0\n",
      "0\n",
      "0\n",
      "0\n",
      "0\n",
      "0\n",
      "0\n",
      "0\n",
      "0\n",
      "0\n",
      "0\n",
      "0\n",
      "0\n",
      "0\n",
      "0\n",
      "0\n",
      "0\n",
      "0\n",
      "0\n",
      "0\n",
      "0\n",
      "0\n",
      "0\n",
      "0\n",
      "0\n",
      "[[1 1 1 1 1]\n",
      " [1 0 0 0 1]\n",
      " [1 0 0 0 1]\n",
      " [1 0 0 0 1]\n",
      " [1 1 1 1 1]]\n"
     ]
    }
   ],
   "source": [
    "arr15=np.random.randint(0,1,25).reshape(5,5)\n",
    "\n",
    "for fila in range(0,5):\n",
    "    for columna in range (0,5):\n",
    "        print(arr15[fila,columna])\n",
    "        if fila==0:\n",
    "            arr15[fila,columna] =1\n",
    "        if fila==4:    \n",
    "            arr15[fila,columna] =1\n",
    "        if columna== 0:\n",
    "            arr15[fila,columna]=1\n",
    "        if columna==4:\n",
    "            arr15[fila,columna]=1\n",
    "        \n",
    "print(arr15)"
   ]
  },
  {
   "cell_type": "code",
   "execution_count": null,
   "id": "31c96676",
   "metadata": {},
   "outputs": [],
   "source": []
  },
  {
   "cell_type": "markdown",
   "id": "3d004d7e",
   "metadata": {},
   "source": [
    "7-Crea una matriz de 5x5 con los valores 1,2,3,4 justo debajo de la diagonal.\n",
    "Ejemplo: \n",
    "[[0 0 0 0 0]\n",
    " [1 0 0 0 0]\n",
    " [0 2 0 0 0]\n",
    " [0 0 3 0 0]\n",
    " [0 0 0 4 0]]"
   ]
  },
  {
   "cell_type": "code",
   "execution_count": 58,
   "id": "05c1fa5f",
   "metadata": {},
   "outputs": [
    {
     "data": {
      "text/plain": [
       "array([[0, 0, 0, 0, 0],\n",
       "       [1, 0, 0, 0, 0],\n",
       "       [0, 2, 0, 0, 0],\n",
       "       [0, 0, 3, 0, 0],\n",
       "       [0, 0, 0, 4, 0]])"
      ]
     },
     "execution_count": 58,
     "metadata": {},
     "output_type": "execute_result"
    }
   ],
   "source": [
    "arr5= np.diag([0,1,2,3,4,0])\n",
    "arr5[0:5,1:]"
   ]
  },
  {
   "cell_type": "code",
   "execution_count": null,
   "id": "231a140a",
   "metadata": {},
   "outputs": [],
   "source": []
  },
  {
   "cell_type": "markdown",
   "id": "de2bdbf6",
   "metadata": {},
   "source": [
    "8-Imprima el valor mínimo y máximo representable para cada tipo escalar en Numpy.\n"
   ]
  },
  {
   "cell_type": "markdown",
   "id": "37fdc051",
   "metadata": {},
   "source": [
    "9-Dado un array de dos dimensiones, mostrar si este tiene un valor nAn.\n"
   ]
  },
  {
   "cell_type": "code",
   "execution_count": 59,
   "id": "77977ac5",
   "metadata": {},
   "outputs": [
    {
     "data": {
      "text/plain": [
       "True"
      ]
     },
     "execution_count": 59,
     "metadata": {},
     "output_type": "execute_result"
    }
   ],
   "source": [
    "arr8 =np.array ([[1,2,3],[3,np.nan,5]])\n",
    "np.isnan(arr8).any()"
   ]
  },
  {
   "cell_type": "markdown",
   "id": "2919e933",
   "metadata": {},
   "source": [
    "10-Encontrar el valor más cercano de un valor dado en una matriz."
   ]
  },
  {
   "cell_type": "code",
   "execution_count": 119,
   "id": "616cedf0",
   "metadata": {},
   "outputs": [
    {
     "data": {
      "text/plain": [
       "8"
      ]
     },
     "execution_count": 119,
     "metadata": {},
     "output_type": "execute_result"
    }
   ],
   "source": [
    "array = np.random.randint(1, 15, 10)\n",
    "dicc = {}\n",
    "\n",
    "for i in array:\n",
    "    valor = 7\n",
    "    cercania = abs(i-valor)\n",
    "    \n",
    "    dicc[cercania] = i\n",
    "    \n",
    "dicc[min(dicc.keys())]"
   ]
  },
  {
   "cell_type": "code",
   "execution_count": 129,
   "id": "89afac43",
   "metadata": {},
   "outputs": [
    {
     "name": "stdout",
     "output_type": "stream",
     "text": [
      "[18.37002854  4.61198926  9.16018234  4.43793783 19.78015922 19.09373734\n",
      "  8.52617049  3.7929518   9.38511699 17.77630602]\n"
     ]
    },
    {
     "data": {
      "text/plain": [
       "4.611989258182088"
      ]
     },
     "execution_count": 129,
     "metadata": {},
     "output_type": "execute_result"
    }
   ],
   "source": [
    "arr9 = np.random.uniform(1,20,10) #le indicamos que nos genera n° entre 1 y 20, una cantidad de 10\n",
    "print(arr9)\n",
    "valor = 5    #asignamos un valor aleatorio\n",
    "\n",
    "#ahora en el array generado buscamos el valor mas cercano a 5\n",
    "arr9.flat[np.abs(arr9 - valor).argmin()]"
   ]
  },
  {
   "cell_type": "code",
   "execution_count": 142,
   "id": "458ce379",
   "metadata": {},
   "outputs": [],
   "source": [
    "indice_del_menor = np.abs(arr9 - valor).argmin()"
   ]
  },
  {
   "cell_type": "code",
   "execution_count": 143,
   "id": "822bf59b",
   "metadata": {},
   "outputs": [
    {
     "data": {
      "text/plain": [
       "4.611989258182088"
      ]
     },
     "execution_count": 143,
     "metadata": {},
     "output_type": "execute_result"
    }
   ],
   "source": [
    "arr9.flat[indice_del_menor]"
   ]
  },
  {
   "cell_type": "code",
   "execution_count": null,
   "id": "c1cfb82d",
   "metadata": {},
   "outputs": [],
   "source": []
  },
  {
   "cell_type": "markdown",
   "id": "69f78d01",
   "metadata": {},
   "source": [
    "11-Considerando una matriz de dimensión (5,5,3),multiplicarla por una matriz con dimensiones(5,5)."
   ]
  },
  {
   "cell_type": "code",
   "execution_count": 1,
   "id": "f7a401b8",
   "metadata": {},
   "outputs": [],
   "source": [
    "import numpy as np"
   ]
  },
  {
   "cell_type": "code",
   "execution_count": 3,
   "id": "ff18e532",
   "metadata": {},
   "outputs": [
    {
     "data": {
      "text/plain": [
       "array([[[1., 1., 1.],\n",
       "        [1., 1., 1.],\n",
       "        [1., 1., 1.],\n",
       "        [1., 1., 1.],\n",
       "        [1., 1., 1.]],\n",
       "\n",
       "       [[1., 1., 1.],\n",
       "        [1., 1., 1.],\n",
       "        [1., 1., 1.],\n",
       "        [1., 1., 1.],\n",
       "        [1., 1., 1.]],\n",
       "\n",
       "       [[1., 1., 1.],\n",
       "        [1., 1., 1.],\n",
       "        [1., 1., 1.],\n",
       "        [1., 1., 1.],\n",
       "        [1., 1., 1.]],\n",
       "\n",
       "       [[1., 1., 1.],\n",
       "        [1., 1., 1.],\n",
       "        [1., 1., 1.],\n",
       "        [1., 1., 1.],\n",
       "        [1., 1., 1.]],\n",
       "\n",
       "       [[1., 1., 1.],\n",
       "        [1., 1., 1.],\n",
       "        [1., 1., 1.],\n",
       "        [1., 1., 1.],\n",
       "        [1., 1., 1.]]])"
      ]
     },
     "execution_count": 3,
     "metadata": {},
     "output_type": "execute_result"
    }
   ],
   "source": [
    "np.ones((5,5,3))"
   ]
  },
  {
   "cell_type": "code",
   "execution_count": null,
   "id": "564ecf97",
   "metadata": {},
   "outputs": [],
   "source": []
  },
  {
   "cell_type": "markdown",
   "id": "bccd7fff",
   "metadata": {},
   "source": [
    "12-Tomando el vector [1, 2, 3, 4, 5], construir un nuevo vector con 3 ceros consecutivos intercalados entre cada valor.\n",
    "Ejemplo: [1. 0. 0. 0. 2. 0. 0. 0. 3. 0. 0. 0. 4. 0. 0. 0. 5.]"
   ]
  },
  {
   "cell_type": "code",
   "execution_count": 150,
   "id": "4b5211ae",
   "metadata": {},
   "outputs": [],
   "source": [
    "array = np.array([1, 2, 3, 4, 5])"
   ]
  },
  {
   "cell_type": "code",
   "execution_count": 162,
   "id": "b1a13129",
   "metadata": {},
   "outputs": [],
   "source": [
    "#Sumar arrays de distintas dimensiones\n",
    "arr_ceros = np.zeros((3,3))"
   ]
  },
  {
   "cell_type": "code",
   "execution_count": null,
   "id": "f5e2068d",
   "metadata": {},
   "outputs": [],
   "source": []
  },
  {
   "cell_type": "markdown",
   "id": "f08dcfb6",
   "metadata": {},
   "source": [
    "13-Encontrar el valor más frecuente en un array."
   ]
  },
  {
   "cell_type": "code",
   "execution_count": 164,
   "id": "8ce6fc8d",
   "metadata": {},
   "outputs": [],
   "source": [
    "from scipy import stats"
   ]
  },
  {
   "cell_type": "code",
   "execution_count": 171,
   "id": "79b82590",
   "metadata": {},
   "outputs": [],
   "source": [
    "array = np.array([1, 2, 3, 4, 5, 1 , 1, 1, 2, 3, 4, 5, 5, 5, 5, 5])"
   ]
  },
  {
   "cell_type": "code",
   "execution_count": 174,
   "id": "bb4b1d58",
   "metadata": {},
   "outputs": [
    {
     "data": {
      "text/plain": [
       "5"
      ]
     },
     "execution_count": 174,
     "metadata": {},
     "output_type": "execute_result"
    }
   ],
   "source": [
    "stats.mode(array)[0][0]"
   ]
  },
  {
   "cell_type": "code",
   "execution_count": null,
   "id": "dd740d60",
   "metadata": {},
   "outputs": [],
   "source": []
  },
  {
   "cell_type": "markdown",
   "id": "fe1a75fd",
   "metadata": {},
   "source": [
    "14 - Obtener los n valores más grandes de una matriz."
   ]
  },
  {
   "cell_type": "code",
   "execution_count": 230,
   "id": "eb52b4c4",
   "metadata": {},
   "outputs": [],
   "source": [
    "array = np.array([\n",
    "    [2, 0, 5, 0, 0],\n",
    "    [1, 0, 0, 7, 0],\n",
    "    [0, 2, 6, 5, 15],\n",
    "    [0, 0, 3, 16, 12],\n",
    "    [0, 0, 0, 4, 0]\n",
    "])"
   ]
  },
  {
   "cell_type": "code",
   "execution_count": 211,
   "id": "bb5885c6",
   "metadata": {},
   "outputs": [],
   "source": [
    "array = np.sort(array.flatten())"
   ]
  },
  {
   "cell_type": "code",
   "execution_count": 224,
   "id": "7125e727",
   "metadata": {},
   "outputs": [
    {
     "data": {
      "text/plain": [
       "array([ 6,  7, 12, 15, 16])"
      ]
     },
     "execution_count": 224,
     "metadata": {},
     "output_type": "execute_result"
    }
   ],
   "source": [
    "array[-5:]"
   ]
  },
  {
   "cell_type": "code",
   "execution_count": null,
   "id": "8a187156",
   "metadata": {},
   "outputs": [],
   "source": []
  },
  {
   "cell_type": "code",
   "execution_count": null,
   "id": "0dfabaf9",
   "metadata": {},
   "outputs": [],
   "source": []
  },
  {
   "cell_type": "markdown",
   "id": "d61cc431",
   "metadata": {},
   "source": [
    "15 - Tomando una matriz de 10x3, extraer las filas con valores desiguales y mostrarlas por pantalla."
   ]
  },
  {
   "cell_type": "code",
   "execution_count": 239,
   "id": "fc35bc8e",
   "metadata": {},
   "outputs": [],
   "source": [
    "array = np.random.randint(1, 50, 30).reshape(10,3)"
   ]
  },
  {
   "cell_type": "code",
   "execution_count": 243,
   "id": "902f15ef",
   "metadata": {},
   "outputs": [
    {
     "data": {
      "text/plain": [
       "array([[41,  1, 23],\n",
       "       [46,  5,  4],\n",
       "       [41, 22, 47],\n",
       "       [35, 39,  7],\n",
       "       [23, 48, 35],\n",
       "       [14, 29,  1],\n",
       "       [44, 24, 33],\n",
       "       [ 8, 15,  5],\n",
       "       [ 6, 47, 48],\n",
       "       [ 2, 19,  2]])"
      ]
     },
     "execution_count": 243,
     "metadata": {},
     "output_type": "execute_result"
    }
   ],
   "source": [
    "array"
   ]
  },
  {
   "cell_type": "code",
   "execution_count": 248,
   "id": "bebb1083",
   "metadata": {},
   "outputs": [
    {
     "data": {
      "text/plain": [
       "array([41,  1, 23])"
      ]
     },
     "execution_count": 248,
     "metadata": {},
     "output_type": "execute_result"
    }
   ],
   "source": [
    "array[0]"
   ]
  },
  {
   "cell_type": "code",
   "execution_count": null,
   "id": "9081bd17",
   "metadata": {},
   "outputs": [],
   "source": [
    "(array[i][0] == array[i][1]) & (array[i][1] == array[i][2])"
   ]
  }
 ],
 "metadata": {
  "kernelspec": {
   "display_name": "Python 3 (ipykernel)",
   "language": "python",
   "name": "python3"
  },
  "language_info": {
   "codemirror_mode": {
    "name": "ipython",
    "version": 3
   },
   "file_extension": ".py",
   "mimetype": "text/x-python",
   "name": "python",
   "nbconvert_exporter": "python",
   "pygments_lexer": "ipython3",
   "version": "3.8.10"
  }
 },
 "nbformat": 4,
 "nbformat_minor": 5
}
