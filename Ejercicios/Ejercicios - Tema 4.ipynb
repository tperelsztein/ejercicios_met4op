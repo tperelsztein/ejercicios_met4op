{
 "cells": [
  {
   "cell_type": "code",
   "execution_count": null,
   "id": "1a355afe",
   "metadata": {},
   "outputs": [],
   "source": []
  },
  {
   "cell_type": "markdown",
   "id": "085cd6fd",
   "metadata": {},
   "source": [
    "Ejercicio 5"
   ]
  },
  {
   "cell_type": "code",
   "execution_count": 23,
   "id": "458a9e84",
   "metadata": {},
   "outputs": [],
   "source": [
    "import numpy as np\n",
    "from scipy import stats"
   ]
  },
  {
   "cell_type": "code",
   "execution_count": 24,
   "id": "05e70a19",
   "metadata": {},
   "outputs": [],
   "source": [
    "candidato_1=[75,40,15,14,9,42,73,40,29,17,78,24,89,40,53,67,65,3,27,65]\n",
    "candidato_2=[81,96,95,30,46,4,46,60,1,39,59,76,65,57,18,42,2,16,47,69]\n",
    "candidato_3=[87,81,55,72,72,11,1,59,72,95,92,41,77,93,24,34,62,49,18,36]"
   ]
  },
  {
   "cell_type": "code",
   "execution_count": 31,
   "id": "b4db34fb",
   "metadata": {},
   "outputs": [],
   "source": [
    "def funcion_candidatos(x,y,z):\n",
    "    \n",
    "    max_x = np.quantile(x,1)\n",
    "    max_y = np.quantile(y,1)                  \n",
    "    max_z = np.quantile(z,1)\n",
    "    \n",
    "    return(\n",
    "        print(f'El maximo es :{max_x}'),\n",
    "        print(f'El maximo es :{max_y}'),\n",
    "        print(f'El maximo es :{max_z}')\n",
    "          )"
   ]
  },
  {
   "cell_type": "code",
   "execution_count": 32,
   "id": "6de87a60",
   "metadata": {},
   "outputs": [
    {
     "name": "stdout",
     "output_type": "stream",
     "text": [
      "El maximo es :89\n",
      "El maximo es :96\n",
      "El maximo es :95\n"
     ]
    },
    {
     "data": {
      "text/plain": [
       "(None, None, None)"
      ]
     },
     "execution_count": 32,
     "metadata": {},
     "output_type": "execute_result"
    }
   ],
   "source": [
    "funcion_candidatos(candidato_1, candidato_2, candidato_3)"
   ]
  },
  {
   "cell_type": "code",
   "execution_count": null,
   "id": "8a698593",
   "metadata": {},
   "outputs": [],
   "source": []
  },
  {
   "cell_type": "code",
   "execution_count": 28,
   "id": "93ef2371",
   "metadata": {},
   "outputs": [
    {
     "name": "stdout",
     "output_type": "stream",
     "text": [
      "candidato_1 Media  43.25\n",
      "candidato_2 Media  47.45\n",
      "candidato_3 Media  56.55\n",
      "candidato_1 Moda ModeResult(mode=array([40]), count=array([3]))\n",
      "candidato_2 Moda ModeResult(mode=array([46]), count=array([2]))\n",
      "candidato_3 Moda ModeResult(mode=array([72]), count=array([3]))\n",
      "candidato_1 Mediana 40.0\n",
      "candidato_1 Mediana 46.5\n",
      "candidato_1 Mediana 60.5\n",
      "candidato_1 Desv 25.303902861021264\n",
      "candidato_1 Desv 28.36454653259946\n",
      "candidato_1 Desv 28.015129840855636\n",
      "candidato_1 Var 640.2875\n",
      "candidato_1 Var 804.5475\n",
      "candidato_1 Var 784.8475\n",
      "candidato_1 Min:  3\n",
      "candidato_2 Min:  1\n",
      "candidato_3 Min:  1\n",
      "candidato_1 Max:  89\n",
      "candidato_2 Max:  96\n",
      "candidato_3 Max:  95\n",
      "candidato_1 Q1:  22.25\n",
      "candidato_2 Q1:  27.0\n",
      "candidato_3 Q1:  35.5\n",
      "candidato_1 Q3:  65.5\n",
      "candidato_2 Q3:  66.0\n",
      "candidato_3 Q3:  78.0\n"
     ]
    }
   ],
   "source": [
    "maximo=np.quantile(candidato_1,1)\n",
    "maximo=np.quantile(candidato_2,1)                  \n",
    "maximo=np.quantile(candidato_3,1)\n",
    "\n",
    "minimo=np.quantile(candidato_1,0)\n",
    "minimo=np.quantile(candidato_2,0)\n",
    "minimo=np.quantile(candidato_3,0)\n",
    "\n",
    "media=np.mean(candidato_1)\n",
    "media=np.mean(candidato_2)\n",
    "media=np.mean(candidato_3)\n",
    "\n",
    "mediana=np.median(candidato_1)\n",
    "mediana=np.median(candidato_2)\n",
    "mediana=np.median(candidato_3)\n",
    "\n",
    "moda=stats.mode(candidato_1)\n",
    "moda=stats.mode(candidato_2)\n",
    "moda=stats.mode(candidato_3)\n",
    "\n",
    "desv_estandar=np.std(candidato_1)\n",
    "desv_estandar=np.std(candidato_2)\n",
    "desv_estandar=np.std(candidato_3)\n",
    "\n",
    "varianza=np.var(candidato_1)\n",
    "varianza=np.var(candidato_2)\n",
    "varianza=np.var(candidato_3)\n",
    "\n",
    "primer_quantil=np.quantile(candidato_1,0.25)\n",
    "primer_quantil=np.quantile (candidato_2,0.25)\n",
    "primer_quantil=np.quantile (candidato_3,0.25)\n",
    "\n",
    "tercer_quantile=np.quantile(candidato_1,0.75)\n",
    "tercer_quantile=np.quantile(candidato_2,0.75)                          \n",
    "tercer_quantile=np.quantile(candidato_3,0.75)\n",
    "\n",
    "\n",
    "print(\"candidato_1\", \"Media \", np.mean(candidato_1))\n",
    "print(\"candidato_2\", \"Media \", np.mean(candidato_2))\n",
    "print(\"candidato_3\", \"Media \", np.mean(candidato_3))\n",
    "print(\"candidato_1\", \"Moda\",stats.mode(candidato_1))\n",
    "print(\"candidato_2\", \"Moda\",stats.mode(candidato_2))\n",
    "print(\"candidato_3\", \"Moda\",stats.mode(candidato_3))\n",
    "print(\"candidato_1\", \"Mediana\", np.median(candidato_1))\n",
    "print(\"candidato_1\", \"Mediana\", np.median(candidato_2))\n",
    "print(\"candidato_1\", \"Mediana\", np.median(candidato_3))\n",
    "\n",
    "print(\"candidato_1\", \"Desv\", np.std(candidato_1))\n",
    "print(\"candidato_1\", \"Desv\", np.std(candidato_2))\n",
    "print(\"candidato_1\", \"Desv\", np.std(candidato_3))\n",
    "\n",
    "print(\"candidato_1\", \"Var\", np.var(candidato_1))\n",
    "print(\"candidato_1\", \"Var\", np.var(candidato_2))\n",
    "print(\"candidato_1\", \"Var\", np.var(candidato_3))\n",
    "\n",
    "print(\"candidato_1\", \"Min: \",np.quantile(candidato_1,0))\n",
    "print(\"candidato_2\", \"Min: \",np.quantile(candidato_2,0))\n",
    "print(\"candidato_3\", \"Min: \",np.quantile(candidato_3,0))\n",
    "print(\"candidato_1\", \"Max: \",np.quantile(candidato_1,1))\n",
    "print(\"candidato_2\", \"Max: \",np.quantile(candidato_2,1))\n",
    "print(\"candidato_3\", \"Max: \",np.quantile(candidato_3,1))\n",
    "\n",
    "print(\"candidato_1\", \"Q1: \",np.quantile(candidato_1,0.25))\n",
    "print(\"candidato_2\", \"Q1: \",np.quantile(candidato_2,0.25))\n",
    "print(\"candidato_3\", \"Q1: \",np.quantile(candidato_3,0.25))\n",
    "print(\"candidato_1\", \"Q3: \",np.quantile(candidato_1,0.75))\n",
    "print(\"candidato_2\", \"Q3: \",np.quantile(candidato_2,0.75))\n",
    "print(\"candidato_3\", \"Q3: \",np.quantile(candidato_3,0.75))\n"
   ]
  },
  {
   "cell_type": "code",
   "execution_count": null,
   "id": "2cee1d2f",
   "metadata": {},
   "outputs": [],
   "source": []
  },
  {
   "cell_type": "markdown",
   "id": "c4db3c0f",
   "metadata": {},
   "source": [
    "Ejercicio 6"
   ]
  },
  {
   "cell_type": "code",
   "execution_count": 21,
   "id": "432e8227",
   "metadata": {},
   "outputs": [],
   "source": [
    "def collatz():\n",
    "    x = int (input(\"Escribe un numero > 0: \"))\n",
    "    \n",
    "    if x < 0:\n",
    "        print('Te dije que sea mayor a 0!')\n",
    "    else:\n",
    "        contador = 0\n",
    "        print(x)\n",
    "        while x != 1:\n",
    "            if x % 2 == 0:\n",
    "                x = int(x/2)\n",
    "            else:\n",
    "                x = x*3 + 1\n",
    "            print(x)\n",
    "            contador = contador + 1\n",
    "        \n",
    "        return(f'La cantidad de pasos fue: {contador}')"
   ]
  },
  {
   "cell_type": "code",
   "execution_count": 29,
   "id": "f73f1693",
   "metadata": {},
   "outputs": [
    {
     "name": "stdout",
     "output_type": "stream",
     "text": [
      "Escribe un numero > 0: 6\n",
      "6\n",
      "3\n",
      "10\n",
      "5\n",
      "16\n",
      "8\n",
      "4\n",
      "2\n",
      "1\n"
     ]
    },
    {
     "data": {
      "text/plain": [
       "'La cantidad de pasos fue: 8'"
      ]
     },
     "execution_count": 29,
     "metadata": {},
     "output_type": "execute_result"
    }
   ],
   "source": [
    "collatz()"
   ]
  },
  {
   "cell_type": "code",
   "execution_count": null,
   "id": "b8cf86b9",
   "metadata": {},
   "outputs": [],
   "source": []
  },
  {
   "cell_type": "code",
   "execution_count": 7,
   "id": "cf284ce7",
   "metadata": {},
   "outputs": [
    {
     "name": "stdout",
     "output_type": "stream",
     "text": [
      "escribe un numero > 0: 9\n",
      "28\n",
      "14\n",
      "7\n",
      "22\n",
      "11\n",
      "34\n",
      "17\n",
      "52\n",
      "26\n",
      "13\n",
      "40\n",
      "20\n",
      "10\n",
      "5\n",
      "16\n",
      "8\n",
      "4\n",
      "2\n",
      "1\n"
     ]
    }
   ],
   "source": [
    "x = int (input(\"escribe un numero > 0: \"))\n",
    "if x == 0:\n",
    "    print('Te dije que sea mayor a 0!')\n",
    "else:\n",
    "    while x != 1:\n",
    "        if x % 2 == 0:\n",
    "            x = int(x/2)\n",
    "        else:\n",
    "            x=x*3+1\n",
    "        print(x)"
   ]
  },
  {
   "cell_type": "code",
   "execution_count": null,
   "id": "912ef027",
   "metadata": {},
   "outputs": [],
   "source": []
  },
  {
   "cell_type": "code",
   "execution_count": null,
   "id": "d1d34318",
   "metadata": {},
   "outputs": [],
   "source": []
  },
  {
   "cell_type": "code",
   "execution_count": null,
   "id": "8a8d9191",
   "metadata": {},
   "outputs": [],
   "source": []
  }
 ],
 "metadata": {
  "kernelspec": {
   "display_name": "Python 3 (ipykernel)",
   "language": "python",
   "name": "python3"
  },
  "language_info": {
   "codemirror_mode": {
    "name": "ipython",
    "version": 3
   },
   "file_extension": ".py",
   "mimetype": "text/x-python",
   "name": "python",
   "nbconvert_exporter": "python",
   "pygments_lexer": "ipython3",
   "version": "3.8.10"
  }
 },
 "nbformat": 4,
 "nbformat_minor": 5
}
